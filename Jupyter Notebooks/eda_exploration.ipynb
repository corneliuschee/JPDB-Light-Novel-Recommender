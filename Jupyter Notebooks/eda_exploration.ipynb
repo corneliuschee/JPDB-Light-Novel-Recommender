{
 "cells": [
  {
   "cell_type": "markdown",
   "metadata": {},
   "source": [
    " # 📊 EDA for JPDB + Anki Vocabulary Project\n",
    "\n",
    " This notebook explores, cleans, and prepares:\n",
    "\n",
    " - `jpdb_novel_data.csv` (light novel dataset)\n",
    "\n",
    " - `anki_core.xlsx` and `anki_mining.xlsx` (Anki vocabulary decks)\n",
    "\n",
    " for further analysis and database population."
   ]
  },
  {
   "cell_type": "code",
   "execution_count": 1,
   "metadata": {},
   "outputs": [],
   "source": [
    "import pandas as pd\n",
    "import time, random, datetime, math, json, sqlite3, os\n",
    "from collections import defaultdict\n",
    "from jpdb_functions import *\n",
    "from sqlalchemy import create_engine, Column, Integer, String, MetaData, Boolean, Float, select, insert, update, delete, and_, or_, func, Table, Text, ForeignKey, text, delete, DateTime\n",
    "from sklearn.decomposition import NMF, PCA\n",
    "from sklearn.preprocessing import MinMaxScaler, StandardScaler, Normalizer\n",
    "from sklearn.pipeline import make_pipeline\n",
    "import matplotlib.pyplot as plt\n",
    "import numpy as np\n",
    "\n",
    "SID = os.getenv(\"SID\")\n"
   ]
  },
  {
   "cell_type": "markdown",
   "metadata": {},
   "source": [
    " ## Load JPDB Novel Data"
   ]
  },
  {
   "cell_type": "code",
   "execution_count": 2,
   "metadata": {},
   "outputs": [
    {
     "name": "stdout",
     "output_type": "stream",
     "text": [
      "   Unnamed: 0  novel_id                                              Title  \\\n",
      "0           0      5706          Koguma no Kuuku Monogatari: Haru to Natsu   \n",
      "1           1      5765         Koguma no Kuuku Monogatari: Birthday Party   \n",
      "2           2      5768  Koguma no Kuuku Monogatari: Hajimete no Umi to...   \n",
      "3           3      5705            Koguma no Kuuku Monogatari: Aki to Fuyu   \n",
      "4           4      7701                                   Beruna no Shippo   \n",
      "\n",
      "   Length (in words)  Unique words  Unique words (used once)  \\\n",
      "0               7055          1380                       669   \n",
      "1               7072          1318                       671   \n",
      "2               6400          1313                       666   \n",
      "3               6799          1417                       695   \n",
      "4              28809          3476                      1552   \n",
      "\n",
      "  Unique words (used once %)  Unique kanji  Unique kanji (used once)  \\\n",
      "0                        48%           195                        48   \n",
      "1                        50%           207                        46   \n",
      "2                        50%           239                        56   \n",
      "3                        49%           186                        34   \n",
      "4                        44%           928                       190   \n",
      "\n",
      "   Unique kanji readings Average difficulty Peak difficulty (90th percentile)  \\\n",
      "0                    251              1/100                             3/100   \n",
      "1                    292              1/100                             5/100   \n",
      "2                    316              2/100                             5/100   \n",
      "3                    252              2/100                             8/100   \n",
      "4                   1388              2/100                             7/100   \n",
      "\n",
      "   Average sentence length  Characters  Volumes  Unnamed: 15  \\\n",
      "0                     12.3       18674        1          NaN   \n",
      "1                     11.9       17449        1          NaN   \n",
      "2                     11.6       15787        1          NaN   \n",
      "3                     12.0       18031        1          NaN   \n",
      "4                     22.6       71040        1          NaN   \n",
      "\n",
      "   Known unique words  Blacklisted unique words  \n",
      "0                   0                       105  \n",
      "1                   0                        99  \n",
      "2                   0                        99  \n",
      "3                   0                        93  \n",
      "4                   0                       175  \n",
      "(1475, 18)\n",
      "Index(['Unnamed: 0', 'novel_id', 'Title', 'Length (in words)', 'Unique words',\n",
      "       'Unique words (used once)', 'Unique words (used once %)',\n",
      "       'Unique kanji', 'Unique kanji (used once)', 'Unique kanji readings',\n",
      "       'Average difficulty', 'Peak difficulty (90th percentile)',\n",
      "       'Average sentence length', 'Characters', 'Volumes', 'Unnamed: 15',\n",
      "       'Known unique words', 'Blacklisted unique words'],\n",
      "      dtype='object')\n",
      "        Unnamed: 0      novel_id  Length (in words)  Unique words  \\\n",
      "count  1475.000000   1475.000000       1.475000e+03   1475.000000   \n",
      "mean    737.000000   6924.928814       1.762290e+05  10204.390508   \n",
      "std     425.940137   3583.126145       2.754026e+05   5795.529942   \n",
      "min       0.000000   1587.000000       4.172000e+03   1313.000000   \n",
      "25%     368.500000   5454.500000       4.707750e+04   5908.000000   \n",
      "50%     737.000000   6209.000000       8.958200e+04   8649.000000   \n",
      "75%    1105.500000   7522.500000       2.047865e+05  13274.500000   \n",
      "max    1474.000000  15803.000000       6.741165e+06  47667.000000   \n",
      "\n",
      "       Unique words (used once)  Unique kanji  Unique kanji (used once)  \\\n",
      "count               1475.000000   1475.000000               1475.000000   \n",
      "mean                4154.912542   1833.524068                280.789831   \n",
      "std                 1759.482820    462.415813                 52.573737   \n",
      "min                  661.000000    185.000000                 34.000000   \n",
      "25%                 2848.000000   1537.500000                248.000000   \n",
      "50%                 3814.000000   1826.000000                282.000000   \n",
      "75%                 5238.500000   2161.500000                314.000000   \n",
      "max                10978.000000   3158.000000                473.000000   \n",
      "\n",
      "       Unique kanji readings  Average sentence length    Characters  \\\n",
      "count            1475.000000              1475.000000  1.475000e+03   \n",
      "mean             3248.491525                22.468339  4.115403e+05   \n",
      "std              1073.861915                 4.626356  6.535866e+05   \n",
      "min               251.000000                11.000000  9.426000e+03   \n",
      "25%              2506.500000                19.400000  1.103140e+05   \n",
      "50%              3141.000000                21.700000  2.082920e+05   \n",
      "75%              3990.000000                24.600000  4.815730e+05   \n",
      "max              6767.000000                60.600000  1.634578e+07   \n",
      "\n",
      "           Volumes  Unnamed: 15  Known unique words  Blacklisted unique words  \n",
      "count  1475.000000          0.0              1475.0               1475.000000  \n",
      "mean      3.691525          NaN                 0.0                349.510508  \n",
      "std       5.303326          NaN                 0.0                182.874705  \n",
      "min       1.000000          NaN                 0.0                 61.000000  \n",
      "25%       1.000000          NaN                 0.0                215.000000  \n",
      "50%       2.000000          NaN                 0.0                300.000000  \n",
      "75%       5.000000          NaN                 0.0                453.500000  \n",
      "max     130.000000          NaN                 0.0               1187.000000  \n",
      "Unnamed: 0                             int64\n",
      "novel_id                               int64\n",
      "Title                                 object\n",
      "Length (in words)                      int64\n",
      "Unique words                           int64\n",
      "Unique words (used once)               int64\n",
      "Unique words (used once %)            object\n",
      "Unique kanji                           int64\n",
      "Unique kanji (used once)               int64\n",
      "Unique kanji readings                  int64\n",
      "Average difficulty                    object\n",
      "Peak difficulty (90th percentile)     object\n",
      "Average sentence length              float64\n",
      "Characters                             int64\n",
      "Volumes                                int64\n",
      "Unnamed: 15                          float64\n",
      "Known unique words                     int64\n",
      "Blacklisted unique words               int64\n",
      "dtype: object\n"
     ]
    }
   ],
   "source": [
    "df = pd.read_csv(\"jpdb_novel_data.csv\")\n",
    "df.columns = df.columns.str.strip()\n",
    "print(df.head())\n",
    "print(df.shape)\n",
    "print(df.columns)\n",
    "print(df.describe())\n",
    "print(df.dtypes)\n"
   ]
  },
  {
   "cell_type": "markdown",
   "metadata": {},
   "source": [
    " ## Drop Irrelevant Columns"
   ]
  },
  {
   "cell_type": "code",
   "execution_count": 3,
   "metadata": {},
   "outputs": [
    {
     "name": "stdout",
     "output_type": "stream",
     "text": [
      "   novel_id                                              Title  \\\n",
      "0      5706          Koguma no Kuuku Monogatari: Haru to Natsu   \n",
      "1      5765         Koguma no Kuuku Monogatari: Birthday Party   \n",
      "2      5768  Koguma no Kuuku Monogatari: Hajimete no Umi to...   \n",
      "3      5705            Koguma no Kuuku Monogatari: Aki to Fuyu   \n",
      "4      7701                                   Beruna no Shippo   \n",
      "\n",
      "   Length (in words)  Unique words  Unique words (used once)  \\\n",
      "0               7055          1380                       669   \n",
      "1               7072          1318                       671   \n",
      "2               6400          1313                       666   \n",
      "3               6799          1417                       695   \n",
      "4              28809          3476                      1552   \n",
      "\n",
      "  Unique words (used once %)  Unique kanji  Unique kanji (used once)  \\\n",
      "0                        48%           195                        48   \n",
      "1                        50%           207                        46   \n",
      "2                        50%           239                        56   \n",
      "3                        49%           186                        34   \n",
      "4                        44%           928                       190   \n",
      "\n",
      "   Unique kanji readings Average difficulty Peak difficulty (90th percentile)  \\\n",
      "0                    251              1/100                             3/100   \n",
      "1                    292              1/100                             5/100   \n",
      "2                    316              2/100                             5/100   \n",
      "3                    252              2/100                             8/100   \n",
      "4                   1388              2/100                             7/100   \n",
      "\n",
      "   Average sentence length  Characters  Volumes  Blacklisted unique words  \n",
      "0                     12.3       18674        1                       105  \n",
      "1                     11.9       17449        1                        99  \n",
      "2                     11.6       15787        1                        99  \n",
      "3                     12.0       18031        1                        93  \n",
      "4                     22.6       71040        1                       175  \n"
     ]
    }
   ],
   "source": [
    "df.drop(['Unnamed: 0', 'Unnamed: 15', 'Known unique words'], axis=1, inplace=True)\n",
    "print(df.head())\n"
   ]
  },
  {
   "cell_type": "markdown",
   "metadata": {},
   "source": [
    " ## Check for Duplicates / NA"
   ]
  },
  {
   "cell_type": "code",
   "execution_count": 4,
   "metadata": {},
   "outputs": [
    {
     "name": "stdout",
     "output_type": "stream",
     "text": [
      "novel_id                             1475\n",
      "Title                                1475\n",
      "Length (in words)                    1465\n",
      "Unique words                         1425\n",
      "Unique words (used once)             1303\n",
      "Unique words (used once %)             43\n",
      "Unique kanji                          991\n",
      "Unique kanji (used once)              247\n",
      "Unique kanji readings                1213\n",
      "Average difficulty                     92\n",
      "Peak difficulty (90th percentile)      93\n",
      "Average sentence length               222\n",
      "Characters                           1473\n",
      "Volumes                                30\n",
      "Blacklisted unique words              580\n",
      "dtype: int64\n",
      "novel_id                             False\n",
      "Title                                False\n",
      "Length (in words)                    False\n",
      "Unique words                         False\n",
      "Unique words (used once)             False\n",
      "Unique words (used once %)           False\n",
      "Unique kanji                         False\n",
      "Unique kanji (used once)             False\n",
      "Unique kanji readings                False\n",
      "Average difficulty                   False\n",
      "Peak difficulty (90th percentile)    False\n",
      "Average sentence length              False\n",
      "Characters                           False\n",
      "Volumes                              False\n",
      "Blacklisted unique words             False\n",
      "dtype: bool\n"
     ]
    }
   ],
   "source": [
    "print(df.nunique())\n",
    "print(df.isna().any())\n"
   ]
  },
  {
   "cell_type": "markdown",
   "metadata": {},
   "source": [
    " ## Load Anki Core Deck"
   ]
  },
  {
   "cell_type": "code",
   "execution_count": 5,
   "metadata": {},
   "outputs": [
    {
     "name": "stdout",
     "output_type": "stream",
     "text": [
      "     Sort Field    Card        Due                Deck Percent Correct  \\\n",
      "1967         本当  Card 1 2028-03-11  Core2.3k Version 3            100%   \n",
      "1968        愛する  Card 1 2028-04-01  Core2.3k Version 3            100%   \n",
      "1969         我慢  Card 1 2028-06-12  Core2.3k Version 3            100%   \n",
      "1970        おまけ  Card 1 2028-06-16  Core2.3k Version 3            100%   \n",
      "1971        難しい  Card 1 2028-08-22  Core2.3k Version 3            100%   \n",
      "\n",
      "      Again Count Reading  Reviews  WordReadingHiragana  \n",
      "1967          NaN    ほんとう        6                  NaN  \n",
      "1968          NaN    あいする        8                  NaN  \n",
      "1969          NaN     がまん        9                  NaN  \n",
      "1970          1.0     おまけ        9                  NaN  \n",
      "1971          NaN   むずかしい        8                  NaN  \n",
      "Index(['Sort Field', 'Card', 'Due', 'Deck', 'Percent Correct', 'Again Count',\n",
      "       'Reading', 'Reviews', 'WordReadingHiragana'],\n",
      "      dtype='object')\n"
     ]
    }
   ],
   "source": [
    "anki_core_df = pd.read_excel(\"anki_core.xlsx\", engine='openpyxl')\n",
    "print(anki_core_df.tail())\n",
    "print(anki_core_df.columns)\n"
   ]
  },
  {
   "cell_type": "markdown",
   "metadata": {},
   "source": [
    " ## Clean Anki Core Deck"
   ]
  },
  {
   "cell_type": "code",
   "execution_count": 6,
   "metadata": {},
   "outputs": [
    {
     "name": "stdout",
     "output_type": "stream",
     "text": [
      "     Vocab    Card        Due                Deck Percent Correct  \\\n",
      "1967    本当  Card 1 2028-03-11  Core2.3k Version 3            100%   \n",
      "1968   愛する  Card 1 2028-04-01  Core2.3k Version 3            100%   \n",
      "1969    我慢  Card 1 2028-06-12  Core2.3k Version 3            100%   \n",
      "1970   おまけ  Card 1 2028-06-16  Core2.3k Version 3            100%   \n",
      "1971   難しい  Card 1 2028-08-22  Core2.3k Version 3            100%   \n",
      "\n",
      "      Again Count Reading  Reviews  \n",
      "1967          NaN    ほんとう        6  \n",
      "1968          NaN    あいする        8  \n",
      "1969          NaN     がまん        9  \n",
      "1970          1.0     おまけ        9  \n",
      "1971          NaN   むずかしい        8  \n"
     ]
    }
   ],
   "source": [
    "anki_core_df.drop([\"WordReadingHiragana\"], inplace=True, axis=1)\n",
    "anki_core_df.rename(columns={\"Sort Field\": \"Vocab\"}, inplace=True)\n",
    "print(anki_core_df.tail())\n"
   ]
  },
  {
   "cell_type": "markdown",
   "metadata": {},
   "source": [
    " ## Load Anki Mining Deck"
   ]
  },
  {
   "cell_type": "code",
   "execution_count": 7,
   "metadata": {},
   "outputs": [
    {
     "name": "stdout",
     "output_type": "stream",
     "text": [
      "           Vocab         Card                  Due    Deck Percent Correct  \\\n",
      "2541         未完成  Mining Card  2027-02-09 00:00:00  Mining            100%   \n",
      "2542          恩人  Mining Card  2027-03-04 00:00:00  Mining            100%   \n",
      "2543          内緒  Mining Card  2027-03-13 00:00:00  Mining            100%   \n",
      "2544          権利  Mining Card  2027-03-20 00:00:00  Mining            100%   \n",
      "2545  偽者 example  Mining Card  2027-07-15 00:00:00  Mining            100%   \n",
      "\n",
      "      Again Count  Reviews Reading  \n",
      "2541          NaN        6   みかんせい  \n",
      "2542          NaN        6    おんじん  \n",
      "2543          NaN        9    ないしょ  \n",
      "2544          1.0       10     けんり  \n",
      "2545         22.0       33    にせもの  \n"
     ]
    }
   ],
   "source": [
    "anki_mining_df = pd.read_excel(\"anki_mining.xlsx\", engine='openpyxl')\n",
    "anki_mining_df.drop([\"Reading\"], inplace=True, axis=1)\n",
    "anki_mining_df.rename(columns={\"WordReadingHiragana\": \"Reading\", \"Sort Field\": \"Vocab\"}, inplace=True)\n",
    "print(anki_mining_df.tail())\n"
   ]
  },
  {
   "cell_type": "markdown",
   "metadata": {},
   "source": [
    " ## Concatenate Anki Decks"
   ]
  },
  {
   "cell_type": "code",
   "execution_count": 8,
   "metadata": {},
   "outputs": [
    {
     "name": "stdout",
     "output_type": "stream",
     "text": [
      "  Vocab    Card                  Due                Deck Percent Correct  \\\n",
      "0   起こる  Card 1  2025-06-18 00:00:00  Core2.3k Version 3            100%   \n",
      "1    重要  Card 1  2025-06-18 00:00:00  Core2.3k Version 3             93%   \n",
      "2    至る  Card 1  2025-06-18 00:00:00  Core2.3k Version 3            100%   \n",
      "3    対応  Card 1  2025-06-18 00:00:00  Core2.3k Version 3             88%   \n",
      "4   何より  Card 1  2025-06-18 00:00:00  Core2.3k Version 3            100%   \n",
      "\n",
      "   Again Count Reading  Reviews  \n",
      "0          1.0     おこる       12  \n",
      "1          2.0   じゅうよう       15  \n",
      "2          1.0     いたる       12  \n",
      "3          5.0    たいおう       32  \n",
      "4          NaN    なにより        9  \n",
      "4518\n"
     ]
    }
   ],
   "source": [
    "anki_df = pd.concat([anki_core_df, anki_mining_df], ignore_index=True)\n",
    "print(anki_df.head())\n",
    "print(len(anki_df))\n",
    "\n",
    "anki_df['Vocab'] = anki_df[\"Vocab\"].str.strip()\n",
    "anki_df['Reading'] = anki_df['Reading'].str.strip()\n"
   ]
  },
  {
   "cell_type": "markdown",
   "metadata": {},
   "source": [
    " ## Check & Drop Duplicate Vocab Entries"
   ]
  },
  {
   "cell_type": "code",
   "execution_count": 9,
   "metadata": {},
   "outputs": [
    {
     "name": "stdout",
     "output_type": "stream",
     "text": [
      "     Vocab         Card                  Due                Deck  \\\n",
      "853    うまい       Card 1  2025-12-07 00:00:00  Core2.3k Version 3   \n",
      "1296   起こす       Card 1  2026-05-30 00:00:00  Core2.3k Version 3   \n",
      "1733   起きる       Card 1  2027-02-10 00:00:00  Core2.3k Version 3   \n",
      "1768    よく       Card 1  2027-03-08 00:00:00  Core2.3k Version 3   \n",
      "1779    やる       Card 1  2027-03-17 00:00:00  Core2.3k Version 3   \n",
      "1878    もう       Card 1  2027-08-06 00:00:00  Core2.3k Version 3   \n",
      "1937    ただ       Card 1  2027-12-19 00:00:00  Core2.3k Version 3   \n",
      "2276     顎  Mining Card          New #⁨2498⁩              Mining   \n",
      "2377    空間  Mining Card          New #⁨2604⁩              Mining   \n",
      "2397    失う  Mining Card          New #⁨2624⁩              Mining   \n",
      "2566    抜く  Mining Card  2025-06-20 00:00:00              Mining   \n",
      "2649    注目  Mining Card  2025-06-21 00:00:00              Mining   \n",
      "2683    理屈  Mining Card  2025-06-22 00:00:00              Mining   \n",
      "2825    最終  Mining Card  2025-06-25 00:00:00              Mining   \n",
      "2839    好意  Mining Card  2025-06-26 00:00:00              Mining   \n",
      "2951    利く  Mining Card  2025-06-29 00:00:00              Mining   \n",
      "2988    次第  Mining Card  2025-07-01 00:00:00              Mining   \n",
      "3202    担当  Mining Card  2025-07-09 00:00:00              Mining   \n",
      "3227    提案  Mining Card  2025-07-10 00:00:00              Mining   \n",
      "3228    羽根  Mining Card  2025-07-10 00:00:00              Mining   \n",
      "3245  あっさり  Mining Card  2025-07-11 00:00:00              Mining   \n",
      "3391  もたらす  Mining Card  2025-07-17 00:00:00              Mining   \n",
      "3421    限界  Mining Card  2025-07-19 00:00:00              Mining   \n",
      "3482    手元  Mining Card  2025-07-22 00:00:00              Mining   \n",
      "3590    処理  Mining Card  2025-07-29 00:00:00              Mining   \n",
      "3787   ほっと  Mining Card  2025-08-16 00:00:00              Mining   \n",
      "3931    素直  Mining Card  2025-09-06 00:00:00              Mining   \n",
      "4107    自慢  Mining Card  2025-10-17 00:00:00              Mining   \n",
      "4158   教わる  Mining Card  2025-11-03 00:00:00              Mining   \n",
      "4196    確実  Mining Card  2025-11-17 00:00:00              Mining   \n",
      "4353   思わず  Mining Card  2026-01-21 00:00:00              Mining   \n",
      "4376    被害  Mining Card  2026-02-08 00:00:00              Mining   \n",
      "\n",
      "     Percent Correct  Again Count Reading  Reviews  \n",
      "853             100%          NaN     うまい        6  \n",
      "1296            100%          NaN     おこす       10  \n",
      "1733            100%          1.0     おきる       12  \n",
      "1768            100%          NaN      よく       10  \n",
      "1779            100%          NaN      やる        5  \n",
      "1878            100%          NaN      もう        6  \n",
      "1937            100%          NaN      ただ       10  \n",
      "2276             NaN          NaN      あご        0  \n",
      "2377             NaN          NaN    くうかん        0  \n",
      "2397             NaN          NaN    うしなう        0  \n",
      "2566            100%          1.0      ぬく       10  \n",
      "2649            100%          NaN   ちゅうもく        4  \n",
      "2683             91%          1.0     りくつ       11  \n",
      "2825             89%          1.0   さいしゅう        9  \n",
      "2839             93%          2.0     こうい       14  \n",
      "2951            100%          NaN      きく        2  \n",
      "2988            100%          NaN     しだい        8  \n",
      "3202            100%          NaN    たんとう        7  \n",
      "3227            100%          1.0    ていあん       10  \n",
      "3228            100%          NaN      はね        7  \n",
      "3245             90%          4.0    あっさり       30  \n",
      "3391             92%          2.0    もたらす       12  \n",
      "3421            100%          NaN    げんかい        5  \n",
      "3482            100%          NaN     てもと        7  \n",
      "3590             89%          3.0     しょり       18  \n",
      "3787            100%          NaN     ほっと        9  \n",
      "3931            100%          NaN     すなお        9  \n",
      "4107            100%          1.0     じまん       14  \n",
      "4158            100%          NaN    おそわる        9  \n",
      "4196            100%          NaN    かくじつ        9  \n",
      "4353             93%          2.0    おもわず       15  \n",
      "4376            100%          NaN     ひがい       11  \n",
      "Number of duplicates: 32\n",
      "Initial length before dropping duplicates: 4518\n",
      "Final length before dropping duplicates: 4486\n"
     ]
    }
   ],
   "source": [
    "anki_duplicates = anki_df.duplicated(subset=['Vocab', \"Reading\"])\n",
    "print(anki_df[anki_duplicates])\n",
    "print(f\"Number of duplicates: {len(anki_df[anki_duplicates])}\")\n",
    "\n",
    "print(f\"Initial length before dropping duplicates: {len(anki_df)}\")\n",
    "anki_df = anki_df[~anki_duplicates]\n",
    "print(f\"Final length before dropping duplicates: {len(anki_df)}\")\n"
   ]
  },
  {
   "cell_type": "markdown",
   "metadata": {},
   "source": [
    " ## Check Data Types"
   ]
  },
  {
   "cell_type": "code",
   "execution_count": 10,
   "metadata": {},
   "outputs": [
    {
     "name": "stdout",
     "output_type": "stream",
     "text": [
      "Vocab               object\n",
      "Card                object\n",
      "Due                 object\n",
      "Deck                object\n",
      "Percent Correct     object\n",
      "Again Count        float64\n",
      "Reading             object\n",
      "Reviews              int64\n",
      "dtype: object\n"
     ]
    }
   ],
   "source": [
    "print(anki_df.dtypes)\n"
   ]
  },
  {
   "cell_type": "markdown",
   "metadata": {},
   "source": [
    " ## Filter and Clean Columns"
   ]
  },
  {
   "cell_type": "code",
   "execution_count": 11,
   "metadata": {},
   "outputs": [],
   "source": [
    "anki_df = anki_df[~anki_df['Due'].astype(str).str.contains('New')]  # filter unreviewed cards\n",
    "anki_df['Blacklisted'] = (anki_df['Deck'] == 'Core2.3k Version 3')\n",
    "anki_df.drop(['Card'], inplace=True, axis=1)\n"
   ]
  },
  {
   "cell_type": "markdown",
   "metadata": {},
   "source": [
    " ## Handle NaNs"
   ]
  },
  {
   "cell_type": "code",
   "execution_count": 12,
   "metadata": {},
   "outputs": [
    {
     "name": "stdout",
     "output_type": "stream",
     "text": [
      "['Again Count']\n"
     ]
    }
   ],
   "source": [
    "nan_cols = [i for i in anki_df.columns if anki_df[i].isna().any()]\n",
    "print(nan_cols)\n",
    "\n",
    "anki_df.fillna(0, inplace=True)\n",
    "anki_df['Again Count'] = anki_df['Again Count'].astype(int)\n"
   ]
  },
  {
   "cell_type": "markdown",
   "metadata": {},
   "source": [
    " ## Clean Datatypes"
   ]
  },
  {
   "cell_type": "code",
   "execution_count": 13,
   "metadata": {},
   "outputs": [],
   "source": [
    "anki_df['Percent Correct'] = anki_df['Percent Correct'].astype(str).str.strip('%')\n",
    "anki_df['Percent Correct'] = anki_df['Percent Correct'].astype(float)\n",
    "anki_df['Due'] = pd.to_datetime(anki_df['Due'], errors='coerce')\n"
   ]
  },
  {
   "cell_type": "markdown",
   "metadata": {},
   "source": [
    " ## Enrich with vid, sid, frequency rank"
   ]
  },
  {
   "cell_type": "code",
   "execution_count": 14,
   "metadata": {},
   "outputs": [],
   "source": [
    "anki_df = anki_df.apply(enrich_vocab, axis=1)\n"
   ]
  },
  {
   "cell_type": "markdown",
   "metadata": {},
   "source": [
    " ## Save Cleaned Anki DF"
   ]
  },
  {
   "cell_type": "code",
   "execution_count": 15,
   "metadata": {},
   "outputs": [],
   "source": [
    "anki_df.to_csv(os.path.join(os.getcwd(), 'anki_df.csv'))\n"
   ]
  },
  {
   "cell_type": "markdown",
   "metadata": {},
   "source": [
    " ## Reload to Confirm"
   ]
  },
  {
   "cell_type": "code",
   "execution_count": 16,
   "metadata": {},
   "outputs": [
    {
     "name": "stdout",
     "output_type": "stream",
     "text": [
      "   Unnamed: 0 Vocab         Due                Deck  Percent Correct  \\\n",
      "0           0   起こる  2025-06-18  Core2.3k Version 3            100.0   \n",
      "1           1    重要  2025-06-18  Core2.3k Version 3             93.0   \n",
      "2           2    至る  2025-06-18  Core2.3k Version 3            100.0   \n",
      "3           3    対応  2025-06-18  Core2.3k Version 3             88.0   \n",
      "4           4   何より  2025-06-18  Core2.3k Version 3            100.0   \n",
      "\n",
      "   Again Count Reading  Reviews  Blacklisted      vid         sid  \\\n",
      "0            1     おこる       12         True  1223680  2146305150   \n",
      "1            2   じゅうよう       15         True  1336820  3870032381   \n",
      "2            1     いたる       12         True  1311870  1536129181   \n",
      "3            5    たいおう       32         True  1409840  3337990295   \n",
      "4            0    なにより        9         True  1188530  3589014081   \n",
      "\n",
      "   frequency rank  \n",
      "0           800.0  \n",
      "1          1200.0  \n",
      "2          1300.0  \n",
      "3          1300.0  \n",
      "4          1100.0  \n",
      "  Vocab         Due                Deck  Percent Correct  Again Count Reading  \\\n",
      "0   起こる  2025-06-18  Core2.3k Version 3            100.0            1     おこる   \n",
      "1    重要  2025-06-18  Core2.3k Version 3             93.0            2   じゅうよう   \n",
      "2    至る  2025-06-18  Core2.3k Version 3            100.0            1     いたる   \n",
      "3    対応  2025-06-18  Core2.3k Version 3             88.0            5    たいおう   \n",
      "4   何より  2025-06-18  Core2.3k Version 3            100.0            0    なにより   \n",
      "\n",
      "   Reviews  Blacklisted      vid         sid  frequency rank  \n",
      "0       12         True  1223680  2146305150           800.0  \n",
      "1       15         True  1336820  3870032381          1200.0  \n",
      "2       12         True  1311870  1536129181          1300.0  \n",
      "3       32         True  1409840  3337990295          1300.0  \n",
      "4        9         True  1188530  3589014081          1100.0  \n"
     ]
    }
   ],
   "source": [
    "anki_df = pd.read_csv(\"anki_df.csv\")\n",
    "print(anki_df.head())\n",
    "anki_df.drop(columns=['Unnamed: 0'], inplace=True)\n",
    "print(anki_df.head())\n"
   ]
  },
  {
   "cell_type": "markdown",
   "metadata": {},
   "source": [
    " ## Handle NaNs in Frequency Rank"
   ]
  },
  {
   "cell_type": "code",
   "execution_count": 17,
   "metadata": {},
   "outputs": [
    {
     "name": "stdout",
     "output_type": "stream",
     "text": [
      "Vocab               0\n",
      "Due                 0\n",
      "Deck                0\n",
      "Percent Correct     0\n",
      "Again Count         0\n",
      "Reading             0\n",
      "Reviews             0\n",
      "Blacklisted         0\n",
      "vid                 0\n",
      "sid                 0\n",
      "frequency rank     71\n",
      "dtype: int64\n",
      "         Vocab         Due                Deck  Percent Correct  Again Count  \\\n",
      "190        生き方  2025-07-14  Core2.3k Version 3            100.0            1   \n",
      "516         因る  2025-09-08  Core2.3k Version 3             89.0            4   \n",
      "594       目茶苦茶  2025-09-25  Core2.3k Version 3            100.0            1   \n",
      "1572        見方  2026-10-22  Core2.3k Version 3            100.0            0   \n",
      "1728        何て  2027-02-07  Core2.3k Version 3            100.0            0   \n",
      "1969        清聴  2025-06-18              Mining             87.0            7   \n",
      "1990        冥福  2025-06-18              Mining             87.0            3   \n",
      "1996    天秤に掛ける  2025-06-18              Mining            100.0            1   \n",
      "1999       虫干し  2025-06-18              Mining            100.0            1   \n",
      "2053        競る  2025-06-19              Mining             88.0            3   \n",
      "2104        意趣  2025-06-20              Mining             83.0            5   \n",
      "2110     思わせぶり  2025-06-20              Mining             87.0            3   \n",
      "2160        民泊  2025-06-21              Mining             92.0            2   \n",
      "2169       転ける  2025-06-21              Mining            100.0            1   \n",
      "2208        語弊  2025-06-22              Mining             93.0            2   \n",
      "2229       媒介物  2025-06-22              Mining             91.0            4   \n",
      "2252       モフる  2025-06-23              Mining            100.0            1   \n",
      "2275      フワッと  2025-06-23              Mining            100.0            1   \n",
      "2303      人たらし  2025-06-24              Mining             88.0            4   \n",
      "2368    類は友を呼ぶ  2025-06-26              Mining            100.0            1   \n",
      "2408      ポッと出  2025-06-27              Mining            100.0            0   \n",
      "2423        全敗  2025-06-28              Mining            100.0            0   \n",
      "2440      ソバカス  2025-06-28              Mining            100.0            0   \n",
      "2447     けち付ける  2025-06-29              Mining             88.0            3   \n",
      "2491        既製  2025-06-30              Mining             88.0            4   \n",
      "2509        津々  2025-07-01              Mining             90.0            4   \n",
      "2575        及第  2025-07-03              Mining             90.0            2   \n",
      "2590     所帯じみる  2025-07-04              Mining             92.0            2   \n",
      "2593        菜箸  2025-07-04              Mining             91.0            2   \n",
      "2610      けんか腰  2025-07-05              Mining             87.0            3   \n",
      "2644       寝ぐせ  2025-07-06              Mining             91.0            2   \n",
      "2659     伸し掛かる  2025-07-07              Mining             89.0            5   \n",
      "2682        下剤  2025-07-07              Mining            100.0            1   \n",
      "2695       回数券  2025-07-08              Mining             92.0            2   \n",
      "2702       借用書  2025-07-08              Mining             92.0            2   \n",
      "2708      投身自殺  2025-07-08              Mining            100.0            1   \n",
      "2791  余裕しゃくしゃく  2025-07-12              Mining             92.0            2   \n",
      "2810       親離れ  2025-07-13              Mining            100.0            1   \n",
      "2873    眼鏡にかなう  2025-07-16              Mining             89.0            3   \n",
      "2924      油性ペン  2025-07-18              Mining            100.0            1   \n",
      "2938       程々に  2025-07-19              Mining            100.0            1   \n",
      "2940      八方美人  2025-07-19              Mining            100.0            1   \n",
      "2978       ガムテ  2025-07-21              Mining            100.0            0   \n",
      "2981      再生回数  2025-07-22              Mining            100.0            1   \n",
      "3007        遅番  2025-07-23              Mining             92.0            2   \n",
      "3031        不粋  2025-07-24              Mining            100.0            1   \n",
      "3101       凡ミス  2025-07-29              Mining            100.0            1   \n",
      "3104       占星術  2025-07-29              Mining             92.0            2   \n",
      "3121    煮えきらない  2025-07-30              Mining             91.0            2   \n",
      "3184       今日日  2025-08-05              Mining            100.0            1   \n",
      "3203        愁傷  2025-08-07              Mining             90.0            5   \n",
      "3226      当て付け  2025-08-09              Mining             87.0            4   \n",
      "3244        島外  2025-08-10              Mining            100.0            1   \n",
      "3343        年賀  2025-08-22              Mining            100.0            0   \n",
      "3506      除夜の鐘  2025-09-18              Mining            100.0            2   \n",
      "3512        皆勤  2025-09-19              Mining             89.0            7   \n",
      "3533    隅に置けない  2025-09-23              Mining            100.0            1   \n",
      "3546        合算  2025-09-27              Mining            100.0            1   \n",
      "3593        僻み  2025-10-10              Mining             94.0            3   \n",
      "3624        健診  2025-10-21              Mining             95.0            3   \n",
      "3653        摂生  2025-10-30              Mining             90.0            3   \n",
      "3690     在り来たり  2025-11-13              Mining             94.0            2   \n",
      "3714       為さる  2025-11-24              Mining             93.0            2   \n",
      "3728       無闇に  2025-11-28              Mining            100.0            1   \n",
      "3744       脈あり  2025-12-03              Mining            100.0            0   \n",
      "3756      範ちゅう  2025-12-07              Mining            100.0            1   \n",
      "3776        必修  2025-12-14              Mining             94.0            2   \n",
      "3807       汚部屋  2025-12-28              Mining            100.0            1   \n",
      "3984        差分  2026-07-11              Mining            100.0            1   \n",
      "4006      伸びしろ  2026-10-18              Mining            100.0            1   \n",
      "4015       道理で  2027-01-16              Mining             94.0            2   \n",
      "\n",
      "        Reading  Reviews  Blacklisted      vid         sid  frequency rank  \n",
      "190        いきかた        9         True  1587100  4236612021             NaN  \n",
      "516          よる       27         True  1168660  1912341799             NaN  \n",
      "594      めちゃくちゃ        9         True  1533000  3763404990             NaN  \n",
      "1572        みかた       11         True  1260070  3354677767             NaN  \n",
      "1728        なんて        9         True  1188370  2294653205             NaN  \n",
      "1969      せいちょう       31        False  1645320    56144731             NaN  \n",
      "1990       めいふく       15        False  1531310  2668748365             NaN  \n",
      "1996   てんびんにかける        7        False  1440150   975103246             NaN  \n",
      "1999       むしぼし        6        False  1771140  4158346734             NaN  \n",
      "2053         せる       16        False  1234050    19123975             NaN  \n",
      "2104        いしゅ       24        False  1156670   445694467             NaN  \n",
      "2110     おもわせぶり       15        False  1825730  3457912822             NaN  \n",
      "2160       みんぱく       12        False  1911110   776456705             NaN  \n",
      "2169        こける        7        False  1593170  4092435921             NaN  \n",
      "2208        ごへい       14        False  1271190  4194091336             NaN  \n",
      "2229     ばいかいぶつ       11        False  1473390   271756141             NaN  \n",
      "2252        もふる        8        False  2846486  3334232730             NaN  \n",
      "2275       ふわっと        6        False  1011080  1293964298             NaN  \n",
      "2303      ひとたらし       16        False  2748440  2992221889             NaN  \n",
      "2368   るいはともをよぶ        8        False  2077530   616922670             NaN  \n",
      "2408       ぽっとで        6        False  2834028  1438082571             NaN  \n",
      "2423       ぜんぱい        8        False  1396000    32646521             NaN  \n",
      "2440       そばかす        6        False  1373580  3324100605             NaN  \n",
      "2447      けちつける       17        False  2234490  3088650229             NaN  \n",
      "2491        きせい       16        False  1220420  4081548188             NaN  \n",
      "2509       しんしん       20        False  1721100  1120151720             NaN  \n",
      "2575      きゅうだい       10        False  1228190  2858322502             NaN  \n",
      "2590    しょたいじみる       12        False  2607450    46564211             NaN  \n",
      "2593       さいばし       11        False  1741430   872643455             NaN  \n",
      "2610      けんかごし       15        False  1257050    68517644             NaN  \n",
      "2644        ねぐせ       11        False  1793060  3651449329             NaN  \n",
      "2659      のしかかる       27        False  1358820  2077290388             NaN  \n",
      "2682        げざい        7        False  1185000  4049997572             NaN  \n",
      "2695     かいすうけん       13        False  1199520  1397380459             NaN  \n",
      "2702    しゃくようしょ       12        False  1324060   145891159             NaN  \n",
      "2708    とうしんじさつ        7        False  2708030   224076610             NaN  \n",
      "2791  よゆうしゃくしゃく       13        False  1544600  1489132111             NaN  \n",
      "2810      おやばなれ        9        False  2013200   402856810             NaN  \n",
      "2873    めがねにかなう       18        False  2251260  1809632567             NaN  \n",
      "2924      ゆせいぺん        8        False  2275340   662834532             NaN  \n",
      "2938      ほどほどに        8        False  2831349  4223916700             NaN  \n",
      "2940    はっぽうびじん        9        False  1477050  1840945856             NaN  \n",
      "2978        がむて        7        False  2065210  2360938870             NaN  \n",
      "2981   さいせいかいすう        9        False  2836425  3924884046             NaN  \n",
      "3007       おそばん       13        False  1705740   203896240             NaN  \n",
      "3031        ぶすい        8        False  1530270  3342380094             NaN  \n",
      "3101       ぼんみす        9        False  2106030  1005104065             NaN  \n",
      "3104    せんせいじゅつ       12        False  1389550  2172594772             NaN  \n",
      "3121     にえきらない       11        False  1642980  3133839236             NaN  \n",
      "3184       きょうび        8        False  1289430  2215337582             NaN  \n",
      "3203     しゅうしょう       30        False  1332500  1538526470             NaN  \n",
      "3226       あてつけ       23        False  1783970  1063825632             NaN  \n",
      "3244       とうがい        8        False  2791410  3873591302             NaN  \n",
      "3343        ねんが        7        False  1468240  1329882652             NaN  \n",
      "3506     じょやのかね       11        False  2123510   695617981             NaN  \n",
      "3512       かいきん       27        False  1202210  2287796006             NaN  \n",
      "3533    すみにおけない        9        False  1854200  2136519849             NaN  \n",
      "3546       がっさん       13        False  1284800  1101425274             NaN  \n",
      "3593        ひがみ       17        False  1601450  3303790527             NaN  \n",
      "3624       けんしん       19        False  1256350  3125590152             NaN  \n",
      "3653       せっせい       20        False  1385740  2314587574             NaN  \n",
      "3690      ありきたり       16        False  1296390  2914529005             NaN  \n",
      "3714        なさる       15        False  1157090  3955197437             NaN  \n",
      "3728       むやみに       10        False  1529590  4007032591             NaN  \n",
      "3744      みゃくあり        8        False  2848462  3236845428             NaN  \n",
      "3756      はんちゅう        9        False  1481910  1415746742             NaN  \n",
      "3776      ひっしゅう       16        False  1487510   634127341             NaN  \n",
      "3807        おべや        9        False  2740840  1943980313             NaN  \n",
      "3984        さぶん       11        False  1291400  3030494974             NaN  \n",
      "4006       のびしろ       10        False  2733760  4166592131             NaN  \n",
      "4015       どうりで       16        False  1454270   345889696             NaN  \n",
      "Vocab              0\n",
      "Due                0\n",
      "Deck               0\n",
      "Percent Correct    0\n",
      "Again Count        0\n",
      "Reading            0\n",
      "Reviews            0\n",
      "Blacklisted        0\n",
      "vid                0\n",
      "sid                0\n",
      "frequency rank     0\n",
      "dtype: int64\n",
      "           Vocab        Due                Deck  Percent Correct  Again Count  \\\n",
      "0            起こる 2025-06-18  Core2.3k Version 3            100.0            1   \n",
      "1             重要 2025-06-18  Core2.3k Version 3             93.0            2   \n",
      "2             至る 2025-06-18  Core2.3k Version 3            100.0            1   \n",
      "3             対応 2025-06-18  Core2.3k Version 3             88.0            5   \n",
      "4            何より 2025-06-18  Core2.3k Version 3            100.0            0   \n",
      "...          ...        ...                 ...              ...          ...   \n",
      "4017         未完成 2027-02-09              Mining            100.0            0   \n",
      "4018          恩人 2027-03-04              Mining            100.0            0   \n",
      "4019          内緒 2027-03-13              Mining            100.0            0   \n",
      "4020          権利 2027-03-20              Mining            100.0            1   \n",
      "4021  偽者 example 2027-07-15              Mining            100.0           22   \n",
      "\n",
      "     Reading  Reviews  Blacklisted      vid         sid  frequency rank  \n",
      "0        おこる       12         True  1223680  2146305150           800.0  \n",
      "1      じゅうよう       15         True  1336820  3870032381          1200.0  \n",
      "2        いたる       12         True  1311870  1536129181          1300.0  \n",
      "3       たいおう       32         True  1409840  3337990295          1300.0  \n",
      "4       なにより        9         True  1188530  3589014081          1100.0  \n",
      "...      ...      ...          ...      ...         ...             ...  \n",
      "4017   みかんせい        6        False  1527300  3493603742         18500.0  \n",
      "4018    おんじん        6        False  1183230   754716325          7400.0  \n",
      "4019    ないしょ        9        False  1458510  3092755187          4100.0  \n",
      "4020     けんり       10        False  1258200   977038918          2500.0  \n",
      "4021    にせもの       33        False  1585230  1737376340          1100.0  \n",
      "\n",
      "[3951 rows x 11 columns]\n"
     ]
    }
   ],
   "source": [
    "print(anki_df.isnull().sum())\n",
    "with pd.option_context(\"display.max_rows\", 71):\n",
    "    print(anki_df[anki_df.isna().any(axis=1)])\n",
    "    \n",
    "#Exclude these rows since 71 is a low number out of 4000+ rows\n",
    "anki_df = anki_df.dropna(subset=['frequency rank'])\n",
    "print(anki_df.isnull().sum())\n",
    "anki_df['Due'] = pd.to_datetime(anki_df['Due'], errors='coerce')\n",
    "print(anki_df)\n"
   ]
  },
  {
   "cell_type": "markdown",
   "metadata": {},
   "source": [
    " ## Drop Duplicate vids"
   ]
  },
  {
   "cell_type": "code",
   "execution_count": null,
   "metadata": {},
   "outputs": [],
   "source": [
    "anki_df = anki_df.drop_duplicates(subset=['vid'])"
   ]
  }
 ],
 "metadata": {
  "kernelspec": {
   "display_name": ".venv",
   "language": "python",
   "name": "python3"
  },
  "language_info": {
   "codemirror_mode": {
    "name": "ipython",
    "version": 3
   },
   "file_extension": ".py",
   "mimetype": "text/x-python",
   "name": "python",
   "nbconvert_exporter": "python",
   "pygments_lexer": "ipython3",
   "version": "3.11.3"
  }
 },
 "nbformat": 4,
 "nbformat_minor": 2
}
